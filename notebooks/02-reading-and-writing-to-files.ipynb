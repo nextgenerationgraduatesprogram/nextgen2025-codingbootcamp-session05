{
 "cells": [
  {
   "cell_type": "markdown",
   "metadata": {},
   "source": [
    "# Reading and Writing Files\n",
    "\n",
    "In this notebook we will dive a bit deeper into files and how to read and parse data from them."
   ]
  },
  {
   "cell_type": "markdown",
   "metadata": {},
   "source": [
    "## 00. Getting Started"
   ]
  },
  {
   "cell_type": "code",
   "execution_count": null,
   "metadata": {},
   "outputs": [],
   "source": [
    "!pip install --upgrade pip\n",
    "!pip install pandas\n",
    "!pip install opencv-python\n",
    "!pip install matplotlib"
   ]
  },
  {
   "cell_type": "code",
   "execution_count": 24,
   "metadata": {},
   "outputs": [],
   "source": [
    "import h5py\n",
    "import matplotlib.pyplot as plt\n",
    "from pathlib import Path\n",
    "\n",
    "from typing import *"
   ]
  },
  {
   "cell_type": "markdown",
   "metadata": {},
   "source": [
    "---"
   ]
  },
  {
   "cell_type": "markdown",
   "metadata": {},
   "source": [
    "## 01. Introduction\n",
    "\n",
    "Files are containers for data, programs like Excel act as interpreters and interfaces for this data. Whilst we can read data from files directly, as shown below, in python we often use libraries like `pandas`, `cv`, or `h5py` to parse data from different types of files."
   ]
  },
  {
   "cell_type": "code",
   "execution_count": null,
   "metadata": {},
   "outputs": [],
   "source": [
    "# define file\n",
    "filepath = Path(\"../data/files/wave.HDF5\")\n",
    "\n",
    "# read binary data\n",
    "..."
   ]
  },
  {
   "cell_type": "code",
   "execution_count": null,
   "metadata": {},
   "outputs": [],
   "source": [
    "import h5py\n",
    "\n",
    "# define file\n",
    "filepath = Path(\"../data/files/wave.HDF5\")\n",
    "\n",
    "# read data using `h5py` interface\n",
    "...\n",
    "\n",
    "# plot the data\n",
    "..."
   ]
  },
  {
   "cell_type": "markdown",
   "metadata": {},
   "source": [
    "---"
   ]
  },
  {
   "cell_type": "markdown",
   "metadata": {},
   "source": [
    "## 02. Reading Files\n",
    "\n",
    "We have saved a couple of different files in `<root>/data/files/` and we'll explore different methods for reading these files."
   ]
  },
  {
   "cell_type": "code",
   "execution_count": null,
   "metadata": {},
   "outputs": [],
   "source": [
    "import cv2\n",
    "\n",
    "\n",
    "filepath = Path(\"../data/files/wave.png\")\n",
    "\n",
    "# lets load the data in `wave.png` using `cv2`\n",
    "...\n",
    "\n",
    "# plot \n",
    "..."
   ]
  },
  {
   "cell_type": "code",
   "execution_count": null,
   "metadata": {},
   "outputs": [],
   "source": [
    "# read the data in `wave.txt` by reading the text in the file\n",
    "\n",
    "# define the filepath\n",
    "filepath = Path(\"../data/files/wave.txt\")\n",
    "\n",
    "# read data \n",
    "with open(filepath, \"r\", encoding=\"utf-8\") as f:\n",
    "    lines = f.readlines()\n",
    "    data = []\n",
    "    for line in lines:\n",
    "        data.append(float(line.strip()))\n",
    "\n",
    "# plot the data\n",
    "fig, ax = plt.subplots(figsize=(6,6))\n",
    "ax.plot(data)"
   ]
  },
  {
   "cell_type": "markdown",
   "metadata": {},
   "source": [
    "### Activity\n",
    "\n",
    "Read and plot the data in `wave.txt` using `pandas`."
   ]
  },
  {
   "cell_type": "code",
   "execution_count": 28,
   "metadata": {},
   "outputs": [],
   "source": [
    "# read the data\n",
    "...\n",
    "\n",
    "# plot the data\n",
    "..."
   ]
  }
 ],
 "metadata": {
  "kernelspec": {
   "display_name": ".venv",
   "language": "python",
   "name": "python3"
  },
  "language_info": {
   "codemirror_mode": {
    "name": "ipython",
    "version": 3
   },
   "file_extension": ".py",
   "mimetype": "text/x-python",
   "name": "python",
   "nbconvert_exporter": "python",
   "pygments_lexer": "ipython3",
   "version": "3.10.11"
  }
 },
 "nbformat": 4,
 "nbformat_minor": 2
}
