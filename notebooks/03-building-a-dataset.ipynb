{
 "cells": [
  {
   "cell_type": "markdown",
   "metadata": {},
   "source": [
    "# Building a Dataset\n",
    "\n",
    "In this notebook we will explore how we can build a `Dataset` for interfacing with a dataset."
   ]
  },
  {
   "cell_type": "markdown",
   "metadata": {},
   "source": [
    "## 00. Getting Started\n",
    "\n",
    "Lets download a the Fashion MNIST dataset from https://github.com/zalandoresearch/fashion-mnist."
   ]
  },
  {
   "cell_type": "code",
   "execution_count": 26,
   "metadata": {},
   "outputs": [],
   "source": [
    "import cv2\n",
    "import gzip\n",
    "import urllib\n",
    "import numpy as np\n",
    "from tqdm import tqdm\n",
    "from pathlib import Path\n",
    "from typing import *\n",
    "\n",
    "# URLs for MNIST dataset\n",
    "base_url = \"http://fashion-mnist.s3-website.eu-central-1.amazonaws.com/\"\n",
    "files = {\n",
    "    \"test_images\": \"t10k-images-idx3-ubyte.gz\",\n",
    "    \"test_labels\": \"t10k-labels-idx1-ubyte.gz\"\n",
    "}\n",
    "\n",
    "# Specify the output directory\n",
    "dataset_dir = Path(\"../data/datasets\")\n",
    "dataset_dir.mkdir(parents=True, exist_ok=True)\n",
    "\n",
    "# Download the files\n",
    "for key, filename in files.items():\n",
    "    src = base_url + filename # source url\n",
    "    dst = dataset_dir.joinpath(filename) # destination file\n",
    "    if not dst.exists():\n",
    "        urllib.request.urlretrieve(src, dst)\n",
    "\n",
    "# extract the images and save them\n",
    "imgs = dataset_dir.joinpath(files[\"test_images\"])\n",
    "with gzip.open(imgs, \"rb\") as file:\n",
    "    imgs = np.frombuffer(file.read(), np.uint8, offset=16)\n",
    "    imgs = imgs.reshape(-1,28,28)\n",
    "\n",
    "# extract the labels and save them\n",
    "lbls = dataset_dir.joinpath(files[\"test_labels\"])\n",
    "with gzip.open(lbls, \"rb\") as file:\n",
    "    lbls = np.frombuffer(file.read(), np.uint8, offset=8)\n",
    "    \n",
    "# lets export them into a specific structure : just use the first 10 for the sake of it\n",
    "for idx in range(10):\n",
    "    # create a subdirectory\n",
    "    idx_dir = dataset_dir.joinpath(str(idx))\n",
    "    idx_dir.mkdir(exist_ok=True, parents=True)\n",
    "\n",
    "    # save the image using cv2\n",
    "    cv2.imwrite(idx_dir.joinpath(f\"img.png\"), imgs[idx])\n",
    "\n",
    "    # save the labe in plain text\n",
    "    with open(idx_dir.joinpath(\"label.txt\"), \"w\") as f:\n",
    "        f.writelines([str(lbls[idx])])"
   ]
  },
  {
   "cell_type": "markdown",
   "metadata": {},
   "source": [
    "## 01. Introduction\n",
    "\n",
    "Spend some time exploring the structure of the dataset using `pathlib`."
   ]
  },
  {
   "cell_type": "code",
   "execution_count": null,
   "metadata": {},
   "outputs": [],
   "source": [
    "#\n",
    "... "
   ]
  },
  {
   "cell_type": "markdown",
   "metadata": {},
   "source": [
    "### Activity\n",
    "\n",
    "Create a regular expression that allows you to get all of the sample directories i.e. `<idx>/` in the dataset."
   ]
  },
  {
   "cell_type": "code",
   "execution_count": null,
   "metadata": {},
   "outputs": [],
   "source": [
    "# define the root directory\n",
    "...\n",
    "\n",
    "# create a regular expression and `.glob` to access the sample directories i.e. <idx>/\n",
    "..."
   ]
  },
  {
   "cell_type": "markdown",
   "metadata": {},
   "source": [
    "## 02. Building an Index\n",
    "\n",
    "We're now going to build our own dataset that we can use to iterate over the items in the dataset. First, lets load all of the sample directories into a `List`, we will call this our index."
   ]
  },
  {
   "cell_type": "code",
   "execution_count": 18,
   "metadata": {},
   "outputs": [],
   "source": [
    "# store the samples in a list\n",
    "..."
   ]
  },
  {
   "cell_type": "code",
   "execution_count": 30,
   "metadata": {},
   "outputs": [],
   "source": [
    "# custom generator\n",
    "class FashionMnist:\n",
    "    def __init__(self, samples: List[Path]) -> None:\n",
    "        super(FashionMnist, self).__init__()\n",
    "        self.samples = samples\n",
    "        assert isinstance(self.samples, List)\n",
    "        assert len(self.samples) > 0\n",
    "        assert isinstance(self.samples[0], Path)\n",
    "\n",
    "    def __iter__(self) -> Tuple[str, str]:\n",
    "        samples = self.samples\n",
    "        for sample in samples:\n",
    "            # construct the filepaths of the data\n",
    "            img_filepath = sample.joinpath(\"img.png\")\n",
    "            lbl_filepath = sample.joinpath(\"lbl.txt\")\n",
    "\n",
    "            yield img_filepath, lbl_filepath"
   ]
  },
  {
   "cell_type": "code",
   "execution_count": null,
   "metadata": {},
   "outputs": [],
   "source": [
    "# initialize the dataset with the files you provided\n",
    "dataset = FashionMnist(...)\n",
    "\n",
    "# iterate over the dataset\n",
    "..."
   ]
  },
  {
   "cell_type": "markdown",
   "metadata": {},
   "source": [
    "## 03. Accessing the Dataset\n",
    "\n",
    "Now we have a way to programatically access each set of files in the dataset, lets write some functions to read the data from the files and return this."
   ]
  },
  {
   "cell_type": "code",
   "execution_count": null,
   "metadata": {},
   "outputs": [],
   "source": [
    "# create a function to read the image\n",
    "img_filepath = Path(\"../data/files/wave.png\")\n",
    "\n",
    "def read_image(path: str) -> Any:\n",
    "    ...\n",
    "\n",
    "\n",
    "# read the image using the function\n",
    "img = read_image(...)\n",
    "\n",
    "# plot the image\n",
    "..."
   ]
  },
  {
   "cell_type": "code",
   "execution_count": null,
   "metadata": {},
   "outputs": [],
   "source": [
    "# create a function to read the label\n",
    "lbl_filepath = Path(\"../data/files/label.txt\")\n",
    "\n",
    "def read_label(path: str) -> Any:\n",
    "    ...\n",
    "\n",
    "# read the label using the function\n",
    "lbl = read_label(...)\n",
    "\n",
    "# plot the image\n",
    "..."
   ]
  },
  {
   "cell_type": "markdown",
   "metadata": {},
   "source": [
    "## 04. Putting it Together\n",
    "\n",
    "Now we have a way to retrieve the directories in the dataset and to read each type of file, lets pull this together into a single class we can use."
   ]
  },
  {
   "cell_type": "code",
   "execution_count": 31,
   "metadata": {},
   "outputs": [],
   "source": [
    "# custom generator\n",
    "class FashionMnist:\n",
    "    def __init__(self, samples: List[Path]) -> None:\n",
    "        super(FashionMnist, self).__init__()\n",
    "        self.samples = samples\n",
    "        assert isinstance(self.samples, List)\n",
    "        assert len(self.samples) > 0\n",
    "        assert isinstance(self.samples[0], Path)\n",
    "\n",
    "    def __iter__(self) -> Tuple[Any, str]:\n",
    "        samples = self.samples\n",
    "        for sample in samples:\n",
    "            # construct the filepaths of the data\n",
    "            img_filepath = sample.joinpath(\"img.png\")\n",
    "            lbl_filepath = sample.joinpath(\"lbl.txt\")\n",
    "\n",
    "            # read the data\n",
    "            ...\n",
    "\n",
    "            # yield the data\n",
    "            yield ...\n",
    "    \n",
    "    def read_image(self, path: str) -> Any:\n",
    "        ...\n",
    "\n",
    "    def read_label(self, path: str) -> int:\n",
    "        ..."
   ]
  },
  {
   "cell_type": "code",
   "execution_count": null,
   "metadata": {},
   "outputs": [],
   "source": [
    "# initialize the dataset\n",
    "dataset = FashionMnist(...)\n",
    "\n",
    "# iterate over the dataset\n",
    "for idx, (img, lbl) in enumerate(dataset):\n",
    "    # create a plot to display the image and label\n",
    "    ...    "
   ]
  },
  {
   "cell_type": "code",
   "execution_count": null,
   "metadata": {},
   "outputs": [],
   "source": []
  }
 ],
 "metadata": {
  "kernelspec": {
   "display_name": ".venv",
   "language": "python",
   "name": "python3"
  },
  "language_info": {
   "codemirror_mode": {
    "name": "ipython",
    "version": 3
   },
   "file_extension": ".py",
   "mimetype": "text/x-python",
   "name": "python",
   "nbconvert_exporter": "python",
   "pygments_lexer": "ipython3",
   "version": "3.10.11"
  }
 },
 "nbformat": 4,
 "nbformat_minor": 2
}
