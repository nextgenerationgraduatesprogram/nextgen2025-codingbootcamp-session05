{
 "cells": [
  {
   "cell_type": "markdown",
   "metadata": {},
   "source": [
    "# Building a Dataset\n",
    "\n",
    "In this notebook we will explore how we can build a `Dataset` for interfacing with a dataset."
   ]
  },
  {
   "cell_type": "markdown",
   "metadata": {},
   "source": [
    "## 00. Getting Started\n",
    "\n",
    "Lets download a the Fashion MNIST dataset from https://github.com/zalandoresearch/fashion-mnist."
   ]
  },
  {
   "cell_type": "code",
   "execution_count": 38,
   "metadata": {},
   "outputs": [
    {
     "name": "stdout",
     "output_type": "stream",
     "text": [
      "Requirement already satisfied: opencv-python in c:\\users\\can134\\onedrive - csiro\\documents\\csiro\\nextgen\\2025\\coding-bootcamp\\nextgen2025-codingbootcamp-session05\\.venv\\lib\\site-packages (4.11.0.86)\n",
      "Requirement already satisfied: numpy>=1.21.2 in c:\\users\\can134\\onedrive - csiro\\documents\\csiro\\nextgen\\2025\\coding-bootcamp\\nextgen2025-codingbootcamp-session05\\.venv\\lib\\site-packages (from opencv-python) (2.2.2)\n"
     ]
    },
    {
     "name": "stderr",
     "output_type": "stream",
     "text": [
      "\n",
      "[notice] A new release of pip is available: 23.0.1 -> 25.0\n",
      "[notice] To update, run: python.exe -m pip install --upgrade pip\n"
     ]
    },
    {
     "name": "stdout",
     "output_type": "stream",
     "text": [
      "Requirement already satisfied: tqdm in c:\\users\\can134\\onedrive - csiro\\documents\\csiro\\nextgen\\2025\\coding-bootcamp\\nextgen2025-codingbootcamp-session05\\.venv\\lib\\site-packages (4.67.1)\n",
      "Requirement already satisfied: colorama in c:\\users\\can134\\onedrive - csiro\\documents\\csiro\\nextgen\\2025\\coding-bootcamp\\nextgen2025-codingbootcamp-session05\\.venv\\lib\\site-packages (from tqdm) (0.4.6)\n"
     ]
    },
    {
     "name": "stderr",
     "output_type": "stream",
     "text": [
      "\n",
      "[notice] A new release of pip is available: 23.0.1 -> 25.0\n",
      "[notice] To update, run: python.exe -m pip install --upgrade pip\n"
     ]
    },
    {
     "name": "stdout",
     "output_type": "stream",
     "text": [
      "Requirement already satisfied: matplotlib in c:\\users\\can134\\onedrive - csiro\\documents\\csiro\\nextgen\\2025\\coding-bootcamp\\nextgen2025-codingbootcamp-session05\\.venv\\lib\\site-packages (3.10.0)\n",
      "Requirement already satisfied: numpy>=1.23 in c:\\users\\can134\\onedrive - csiro\\documents\\csiro\\nextgen\\2025\\coding-bootcamp\\nextgen2025-codingbootcamp-session05\\.venv\\lib\\site-packages (from matplotlib) (2.2.2)\n",
      "Requirement already satisfied: pillow>=8 in c:\\users\\can134\\onedrive - csiro\\documents\\csiro\\nextgen\\2025\\coding-bootcamp\\nextgen2025-codingbootcamp-session05\\.venv\\lib\\site-packages (from matplotlib) (11.1.0)\n",
      "Requirement already satisfied: fonttools>=4.22.0 in c:\\users\\can134\\onedrive - csiro\\documents\\csiro\\nextgen\\2025\\coding-bootcamp\\nextgen2025-codingbootcamp-session05\\.venv\\lib\\site-packages (from matplotlib) (4.55.8)\n",
      "Requirement already satisfied: kiwisolver>=1.3.1 in c:\\users\\can134\\onedrive - csiro\\documents\\csiro\\nextgen\\2025\\coding-bootcamp\\nextgen2025-codingbootcamp-session05\\.venv\\lib\\site-packages (from matplotlib) (1.4.8)\n",
      "Requirement already satisfied: pyparsing>=2.3.1 in c:\\users\\can134\\onedrive - csiro\\documents\\csiro\\nextgen\\2025\\coding-bootcamp\\nextgen2025-codingbootcamp-session05\\.venv\\lib\\site-packages (from matplotlib) (3.2.1)\n",
      "Requirement already satisfied: packaging>=20.0 in c:\\users\\can134\\onedrive - csiro\\documents\\csiro\\nextgen\\2025\\coding-bootcamp\\nextgen2025-codingbootcamp-session05\\.venv\\lib\\site-packages (from matplotlib) (24.2)\n",
      "Requirement already satisfied: contourpy>=1.0.1 in c:\\users\\can134\\onedrive - csiro\\documents\\csiro\\nextgen\\2025\\coding-bootcamp\\nextgen2025-codingbootcamp-session05\\.venv\\lib\\site-packages (from matplotlib) (1.3.1)\n",
      "Requirement already satisfied: python-dateutil>=2.7 in c:\\users\\can134\\onedrive - csiro\\documents\\csiro\\nextgen\\2025\\coding-bootcamp\\nextgen2025-codingbootcamp-session05\\.venv\\lib\\site-packages (from matplotlib) (2.9.0.post0)\n",
      "Requirement already satisfied: cycler>=0.10 in c:\\users\\can134\\onedrive - csiro\\documents\\csiro\\nextgen\\2025\\coding-bootcamp\\nextgen2025-codingbootcamp-session05\\.venv\\lib\\site-packages (from matplotlib) (0.12.1)\n",
      "Requirement already satisfied: six>=1.5 in c:\\users\\can134\\onedrive - csiro\\documents\\csiro\\nextgen\\2025\\coding-bootcamp\\nextgen2025-codingbootcamp-session05\\.venv\\lib\\site-packages (from python-dateutil>=2.7->matplotlib) (1.17.0)\n"
     ]
    },
    {
     "name": "stderr",
     "output_type": "stream",
     "text": [
      "\n",
      "[notice] A new release of pip is available: 23.0.1 -> 25.0\n",
      "[notice] To update, run: python.exe -m pip install --upgrade pip\n"
     ]
    }
   ],
   "source": [
    "!pip install opencv-python\n",
    "!pip install tqdm\n",
    "!pip install matplotlib"
   ]
  },
  {
   "cell_type": "code",
   "execution_count": 39,
   "metadata": {},
   "outputs": [],
   "source": [
    "import cv2\n",
    "import gzip\n",
    "import urllib\n",
    "import numpy as np\n",
    "from tqdm import tqdm\n",
    "from pathlib import Path\n",
    "from typing import *\n",
    "\n",
    "# URLs for MNIST dataset\n",
    "base_url = \"http://fashion-mnist.s3-website.eu-central-1.amazonaws.com/\"\n",
    "files = {\n",
    "    \"test_images\": \"t10k-images-idx3-ubyte.gz\",\n",
    "    \"test_labels\": \"t10k-labels-idx1-ubyte.gz\"\n",
    "}\n",
    "\n",
    "# Specify the output directory\n",
    "dataset_dir = Path(\"../data/datasets\")\n",
    "dataset_dir.mkdir(parents=True, exist_ok=True)\n",
    "\n",
    "# Download the files\n",
    "for key, filename in files.items():\n",
    "    src = base_url + filename # source url\n",
    "    dst = dataset_dir.joinpath(filename) # destination file\n",
    "    if not dst.exists():\n",
    "        urllib.request.urlretrieve(src, dst)\n",
    "\n",
    "# extract the images and save them\n",
    "imgs = dataset_dir.joinpath(files[\"test_images\"])\n",
    "with gzip.open(imgs, \"rb\") as file:\n",
    "    imgs = np.frombuffer(file.read(), np.uint8, offset=16)\n",
    "    imgs = imgs.reshape(-1,28,28)\n",
    "\n",
    "# extract the labels and save them\n",
    "lbls = dataset_dir.joinpath(files[\"test_labels\"])\n",
    "with gzip.open(lbls, \"rb\") as file:\n",
    "    lbls = np.frombuffer(file.read(), np.uint8, offset=8)\n",
    "    \n",
    "# lets export them into a specific structure : just use the first 10 for the sake of it\n",
    "for idx in range(10):\n",
    "    # create a subdirectory\n",
    "    idx_dir = dataset_dir.joinpath(str(idx))\n",
    "    idx_dir.mkdir(exist_ok=True, parents=True)\n",
    "\n",
    "    # save the image using cv2\n",
    "    cv2.imwrite(idx_dir.joinpath(f\"img.png\"), imgs[idx])\n",
    "\n",
    "    # save the labe in plain text\n",
    "    with open(idx_dir.joinpath(\"label.txt\"), \"w\") as f:\n",
    "        f.writelines([str(lbls[idx])])"
   ]
  },
  {
   "cell_type": "markdown",
   "metadata": {},
   "source": [
    "## 01. Introduction\n",
    "\n",
    "Spend some time exploring the structure of the dataset using `pathlib`."
   ]
  },
  {
   "cell_type": "code",
   "execution_count": 43,
   "metadata": {},
   "outputs": [
    {
     "name": "stdout",
     "output_type": "stream",
     "text": [
      "True\n"
     ]
    }
   ],
   "source": [
    "#\n",
    "p = Path(\"../data/datasets\")\n",
    "print(p.exists())"
   ]
  },
  {
   "cell_type": "markdown",
   "metadata": {},
   "source": [
    "### Activity\n",
    "\n",
    "Create a regular expression that allows you to get all of the sample directories i.e. `<idx>/` in the dataset."
   ]
  },
  {
   "cell_type": "code",
   "execution_count": 47,
   "metadata": {},
   "outputs": [
    {
     "name": "stdout",
     "output_type": "stream",
     "text": [
      "..\\data\\datasets\\0\n",
      "..\\data\\datasets\\1\n",
      "..\\data\\datasets\\2\n",
      "..\\data\\datasets\\3\n",
      "..\\data\\datasets\\4\n",
      "..\\data\\datasets\\5\n",
      "..\\data\\datasets\\6\n",
      "..\\data\\datasets\\7\n",
      "..\\data\\datasets\\8\n",
      "..\\data\\datasets\\9\n"
     ]
    }
   ],
   "source": [
    "# define the root directory\n",
    "p = Path(\"../data/datasets\")\n",
    "\n",
    "# create a regular expression and `.glob` to access the sample directories i.e. <idx>/\n",
    "for path in p.glob(\"?\"):\n",
    "    print(path)"
   ]
  },
  {
   "cell_type": "markdown",
   "metadata": {},
   "source": [
    "## 02. Building an Index\n",
    "\n",
    "We're now going to build our own dataset that we can use to iterate over the items in the dataset. First, lets load all of the sample directories into a `List`, we will call this our index."
   ]
  },
  {
   "cell_type": "code",
   "execution_count": 51,
   "metadata": {},
   "outputs": [
    {
     "data": {
      "text/plain": [
       "[WindowsPath('../data/datasets/0'),\n",
       " WindowsPath('../data/datasets/1'),\n",
       " WindowsPath('../data/datasets/2'),\n",
       " WindowsPath('../data/datasets/3'),\n",
       " WindowsPath('../data/datasets/4'),\n",
       " WindowsPath('../data/datasets/5'),\n",
       " WindowsPath('../data/datasets/6'),\n",
       " WindowsPath('../data/datasets/7'),\n",
       " WindowsPath('../data/datasets/8'),\n",
       " WindowsPath('../data/datasets/9')]"
      ]
     },
     "execution_count": 51,
     "metadata": {},
     "output_type": "execute_result"
    }
   ],
   "source": [
    "# store the samples in a list\n",
    "samples = list(p.glob(\"?\"))\n",
    "samples"
   ]
  },
  {
   "cell_type": "code",
   "execution_count": 53,
   "metadata": {},
   "outputs": [],
   "source": [
    "# custom generator\n",
    "class FashionMnist:\n",
    "    def __init__(self, samples: List[Path]) -> None:\n",
    "        super(FashionMnist, self).__init__()\n",
    "        self.samples = samples\n",
    "        assert isinstance(self.samples, List)\n",
    "        assert len(self.samples) > 0\n",
    "        assert isinstance(self.samples[0], Path)\n",
    "\n",
    "    def __iter__(self) -> Tuple[str, str]:\n",
    "        samples = self.samples\n",
    "        for sample in samples:\n",
    "            # construct the filepaths of the data\n",
    "            img_filepath = sample.joinpath(\"img.png\")\n",
    "            lbl_filepath = sample.joinpath(\"lbl.txt\")\n",
    "\n",
    "            yield img_filepath, lbl_filepath"
   ]
  },
  {
   "cell_type": "code",
   "execution_count": 54,
   "metadata": {},
   "outputs": [
    {
     "name": "stdout",
     "output_type": "stream",
     "text": [
      "(WindowsPath('../data/datasets/0/img.png'), WindowsPath('../data/datasets/0/lbl.txt'))\n",
      "(WindowsPath('../data/datasets/1/img.png'), WindowsPath('../data/datasets/1/lbl.txt'))\n",
      "(WindowsPath('../data/datasets/2/img.png'), WindowsPath('../data/datasets/2/lbl.txt'))\n",
      "(WindowsPath('../data/datasets/3/img.png'), WindowsPath('../data/datasets/3/lbl.txt'))\n",
      "(WindowsPath('../data/datasets/4/img.png'), WindowsPath('../data/datasets/4/lbl.txt'))\n",
      "(WindowsPath('../data/datasets/5/img.png'), WindowsPath('../data/datasets/5/lbl.txt'))\n",
      "(WindowsPath('../data/datasets/6/img.png'), WindowsPath('../data/datasets/6/lbl.txt'))\n",
      "(WindowsPath('../data/datasets/7/img.png'), WindowsPath('../data/datasets/7/lbl.txt'))\n",
      "(WindowsPath('../data/datasets/8/img.png'), WindowsPath('../data/datasets/8/lbl.txt'))\n",
      "(WindowsPath('../data/datasets/9/img.png'), WindowsPath('../data/datasets/9/lbl.txt'))\n"
     ]
    }
   ],
   "source": [
    "# initialize the dataset with the files you provided\n",
    "dataset = FashionMnist(samples)\n",
    "\n",
    "# iterate over the dataset\n",
    "for items in dataset:\n",
    "    print(items)"
   ]
  },
  {
   "cell_type": "markdown",
   "metadata": {},
   "source": [
    "## 03. Accessing the Dataset\n",
    "\n",
    "Now we have a way to programatically access each set of files in the dataset, lets write some functions to read the data from the files and return this."
   ]
  },
  {
   "cell_type": "code",
   "execution_count": null,
   "metadata": {},
   "outputs": [
    {
     "name": "stdout",
     "output_type": "stream",
     "text": [
      "True\n"
     ]
    },
    {
     "data": {
      "text/plain": [
       "<matplotlib.image.AxesImage at 0x1e76de6b7f0>"
      ]
     },
     "execution_count": 60,
     "metadata": {},
     "output_type": "execute_result"
    },
    {
     "data": {
      "image/png": "[encoded data removed]",
      "text/plain": [
       "<Figure size 640x480 with 1 Axes>"
      ]
     },
     "metadata": {},
     "output_type": "display_data"
    }
   ],
   "source": [
    "# create a function to read the image\n",
    "img_filepath = Path(\"../data/datasets/0/img.png\")\n",
    "print(img_filepath.exists())\n",
    "\n",
    "# import cv2\n",
    "\n",
    "# img = cv2.imread(img_filepath)\n",
    "# # print(img)\n",
    "\n",
    "\n",
    "# import matplotlib.pyplot as plt\n",
    "# plt.imshow(img)\n",
    "\n",
    "\n",
    "def read_image(path: str) -> Any:\n",
    "    img = cv2.imread(path)\n",
    "    return img\n",
    "\n",
    "# read the image using the function\n",
    "img = read_image(img_filepath)\n",
    "\n",
    "# plot the image\n",
    "plt.imshow(img)"
   ]
  },
  {
   "cell_type": "code",
   "execution_count": 63,
   "metadata": {},
   "outputs": [
    {
     "name": "stdout",
     "output_type": "stream",
     "text": [
      "9\n"
     ]
    }
   ],
   "source": [
    "# create a function to read the label\n",
    "lbl_filepath = Path(\"../data/datasets/0/label.txt\")\n",
    "\n",
    "# import pandas as pd\n",
    "# pd.read_csv(lbl_filepath)\n",
    "\n",
    "# with open(lbl_filepath, \"r\") as file:\n",
    "#     data = file.read()\n",
    "#     print(data)\n",
    "\n",
    "\n",
    "def read_label(path: str) -> Any:\n",
    "    with open(path, \"r\") as file:\n",
    "        data = file.read()\n",
    "    return data\n",
    "\n",
    "# read the label using the function\n",
    "lbl = read_label(lbl_filepath)\n",
    "\n",
    "# plot the image\n",
    "print(lbl)"
   ]
  },
  {
   "cell_type": "markdown",
   "metadata": {},
   "source": [
    "## 04. Putting it Together\n",
    "\n",
    "Now we have a way to retrieve the directories in the dataset and to read each type of file, lets pull this together into a single class we can use."
   ]
  },
  {
   "cell_type": "code",
   "execution_count": 67,
   "metadata": {},
   "outputs": [],
   "source": [
    "# custom generator\n",
    "class FashionMnist:\n",
    "    def __init__(self, samples: List[Path]) -> None:\n",
    "        super(FashionMnist, self).__init__()\n",
    "        self.samples = samples\n",
    "        assert isinstance(self.samples, List)\n",
    "        assert len(self.samples) > 0\n",
    "        assert isinstance(self.samples[0], Path)\n",
    "\n",
    "    def __iter__(self) -> Tuple[Any, str]:\n",
    "        samples = self.samples\n",
    "        for sample in samples:\n",
    "            # construct the filepaths of the data\n",
    "            img_filepath = sample.joinpath(\"img.png\")\n",
    "            lbl_filepath = sample.joinpath(\"label.txt\")\n",
    "\n",
    "            # read the data\n",
    "            img = read_image(img_filepath)\n",
    "            lbl = read_label(lbl_filepath)\n",
    "\n",
    "            # yield the data\n",
    "            yield img, lbl\n"
   ]
  },
  {
   "cell_type": "code",
   "execution_count": 70,
   "metadata": {},
   "outputs": [
    {
     "name": "stdout",
     "output_type": "stream",
     "text": [
      "0 2 (28, 28, 3)\n",
      "1 1 (28, 28, 3)\n",
      "2 1 (28, 28, 3)\n"
     ]
    }
   ],
   "source": [
    "# initialize the dataset\n",
    "p = Path(\"../data/datasets\")\n",
    "samples = list(p.glob(\"[1-3]\"))\n",
    "# print(samples)\n",
    "\n",
    "\n",
    "dataset = FashionMnist(samples)\n",
    "\n",
    "# iterate over the dataset\n",
    "for idx, (img, lbl) in enumerate(dataset):\n",
    "    # create a plot to display the image and label\n",
    "    print(idx, lbl, img.shape)"
   ]
  },
  {
   "cell_type": "code",
   "execution_count": null,
   "metadata": {},
   "outputs": [],
   "source": []
  }
 ],
 "metadata": {
  "kernelspec": {
   "display_name": ".venv",
   "language": "python",
   "name": "python3"
  },
  "language_info": {
   "codemirror_mode": {
    "name": "ipython",
    "version": 3
   },
   "file_extension": ".py",
   "mimetype": "text/x-python",
   "name": "python",
   "nbconvert_exporter": "python",
   "pygments_lexer": "ipython3",
   "version": "3.10.11"
  }
 },
 "nbformat": 4,
 "nbformat_minor": 2
}
