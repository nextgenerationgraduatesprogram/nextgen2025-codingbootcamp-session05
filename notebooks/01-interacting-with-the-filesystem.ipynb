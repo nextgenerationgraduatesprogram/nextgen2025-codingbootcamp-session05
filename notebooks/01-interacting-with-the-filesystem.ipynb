{
 "cells": [
  {
   "cell_type": "markdown",
   "metadata": {},
   "source": [
    "# Interacting with the Filesystem\n",
    "\n",
    "In this notebook we will focus on how to navigate and interact with the filesystem using libraries such as `os` and `pathlib`."
   ]
  },
  {
   "cell_type": "markdown",
   "metadata": {},
   "source": [
    "## 00. Getting Setup"
   ]
  },
  {
   "cell_type": "code",
   "execution_count": 10,
   "metadata": {},
   "outputs": [],
   "source": [
    "from pathlib import Path\n",
    "from typing import *"
   ]
  },
  {
   "cell_type": "code",
   "execution_count": 2,
   "metadata": {},
   "outputs": [
    {
     "name": "stdout",
     "output_type": "stream",
     "text": [
      "Requirement already satisfied: ipykernel in c:\\users\\can134\\onedrive - csiro\\documents\\csiro\\nextgen\\2025\\coding-bootcamp\\nextgen2025-codingbootcamp-session05\\.venv\\lib\\site-packages (from -r ../requirements.txt (line 1)) (6.29.5)\n",
      "Requirement already satisfied: opencv-python in c:\\users\\can134\\onedrive - csiro\\documents\\csiro\\nextgen\\2025\\coding-bootcamp\\nextgen2025-codingbootcamp-session05\\.venv\\lib\\site-packages (from -r ../requirements.txt (line 2)) (4.11.0.86)\n",
      "Requirement already satisfied: h5py in c:\\users\\can134\\onedrive - csiro\\documents\\csiro\\nextgen\\2025\\coding-bootcamp\\nextgen2025-codingbootcamp-session05\\.venv\\lib\\site-packages (from -r ../requirements.txt (line 3)) (3.12.1)\n",
      "Requirement already satisfied: pandas in c:\\users\\can134\\onedrive - csiro\\documents\\csiro\\nextgen\\2025\\coding-bootcamp\\nextgen2025-codingbootcamp-session05\\.venv\\lib\\site-packages (from -r ../requirements.txt (line 4)) (2.2.3)\n",
      "Requirement already satisfied: matplotlib in c:\\users\\can134\\onedrive - csiro\\documents\\csiro\\nextgen\\2025\\coding-bootcamp\\nextgen2025-codingbootcamp-session05\\.venv\\lib\\site-packages (from -r ../requirements.txt (line 5)) (3.10.0)\n"
     ]
    },
    {
     "name": "stderr",
     "output_type": "stream",
     "text": [
      "ERROR: Could not find a version that satisfies the requirement gzip (from versions: none)\n",
      "ERROR: No matching distribution found for gzip\n",
      "\n",
      "[notice] A new release of pip is available: 23.0.1 -> 25.0\n",
      "[notice] To update, run: python.exe -m pip install --upgrade pip\n"
     ]
    }
   ],
   "source": [
    "!pip install -r ../requirements.txt"
   ]
  },
  {
   "cell_type": "markdown",
   "metadata": {},
   "source": [
    "---"
   ]
  },
  {
   "cell_type": "markdown",
   "metadata": {},
   "source": [
    "## 01. Introduction\n",
    "\n",
    "A filesystem is more or less a data structure that an operating system uses to store and handle data."
   ]
  },
  {
   "cell_type": "code",
   "execution_count": 11,
   "metadata": {},
   "outputs": [],
   "source": [
    "# what is a path\n",
    "c:\\users\\can134\\onedrive - csiro\\documents\\csiro\\nextgen\\2025\\coding-bootcamp\\nextgen2025-codingbootcamp-session05\\.venv\\lib\\site-packages"
   ]
  },
  {
   "cell_type": "code",
   "execution_count": 12,
   "metadata": {},
   "outputs": [],
   "source": [
    "# relative path\n",
    ".\\notebooks\\01-interacting-with-the-filesystem.ipynb"
   ]
  },
  {
   "cell_type": "code",
   "execution_count": 13,
   "metadata": {},
   "outputs": [],
   "source": [
    "# absolute path\n",
    "c:\\users\\can134\\onedrive - csiro\\documents\\csiro\\nextgen\\2025\\coding-bootcamp\\nextgen2025-codingbootcamp-session05 + \\notebooks\\01-interacting-with-the-filesystem.ipynb"
   ]
  },
  {
   "cell_type": "code",
   "execution_count": 14,
   "metadata": {},
   "outputs": [],
   "source": [
    "# directory"
   ]
  },
  {
   "cell_type": "code",
   "execution_count": 15,
   "metadata": {},
   "outputs": [],
   "source": [
    "# what is a working directory"
   ]
  },
  {
   "cell_type": "code",
   "execution_count": 16,
   "metadata": {},
   "outputs": [],
   "source": [
    "# file"
   ]
  },
  {
   "cell_type": "markdown",
   "metadata": {},
   "source": [
    "---"
   ]
  },
  {
   "cell_type": "markdown",
   "metadata": {},
   "source": [
    "## 02. Pathlib\n",
    "\n",
    "There are several Python libraries to simplify interacting with the filesystem, in this workshop we will use `pathlib`."
   ]
  },
  {
   "cell_type": "code",
   "execution_count": 6,
   "metadata": {},
   "outputs": [
    {
     "name": "stdout",
     "output_type": "stream",
     "text": [
      "C:\\Users\\can134\\OneDrive - CSIRO\\Documents\\CSIRO\\NextGen\\2025\\coding-bootcamp\\nextgen2025-codingbootcamp-session05\n"
     ]
    }
   ],
   "source": [
    "from pathlib import Path\n",
    "\n",
    "# we can use pathlib to more easily handle navigating through the filesystem\n",
    "p = Path(\"..\").absolute().resolve()\n",
    "\n",
    "print(p)"
   ]
  },
  {
   "cell_type": "code",
   "execution_count": 14,
   "metadata": {},
   "outputs": [
    {
     "name": "stdout",
     "output_type": "stream",
     "text": [
      "True\n",
      "C:\\Users\\can134\\OneDrive - CSIRO\\Documents\\CSIRO\\NextGen\\2025\\coding-bootcamp\\nextgen2025-codingbootcamp-session05\\requirements.txt\n"
     ]
    }
   ],
   "source": [
    "# we can use it to check if the path exists, is a file, or is a directory\n",
    "p = Path(\"../requirements.txt\")\n",
    "\n",
    "print(p.is_file())\n",
    "\n",
    "print(p.absolute().resolve())\n",
    "\n"
   ]
  },
  {
   "cell_type": "code",
   "execution_count": 20,
   "metadata": {},
   "outputs": [
    {
     "name": "stdout",
     "output_type": "stream",
     "text": [
      "C:\\Users\\can134\\OneDrive - CSIRO\\Documents\\CSIRO\\NextGen\\2025\\coding-bootcamp\\nextgen2025-codingbootcamp-session05\\requirements.txt\n",
      "C:\\Users\\can134\\OneDrive - CSIRO\\Documents\\CSIRO\\NextGen\\2025\\coding-bootcamp\\nextgen2025-codingbootcamp-session05\n"
     ]
    }
   ],
   "source": [
    "# we can split it up into different types of paths\n",
    "print(p.absolute().resolve())\n",
    "\n",
    "print(p.parent.absolute().resolve())"
   ]
  },
  {
   "cell_type": "code",
   "execution_count": 21,
   "metadata": {},
   "outputs": [
    {
     "data": {
      "text/plain": [
       "('C:\\\\',\n",
       " 'Users',\n",
       " 'can134',\n",
       " 'OneDrive - CSIRO',\n",
       " 'Documents',\n",
       " 'CSIRO',\n",
       " 'NextGen',\n",
       " '2025',\n",
       " 'coding-bootcamp',\n",
       " 'nextgen2025-codingbootcamp-session05',\n",
       " 'requirements.txt')"
      ]
     },
     "execution_count": 21,
     "metadata": {},
     "output_type": "execute_result"
    }
   ],
   "source": [
    "p.absolute().resolve().parts"
   ]
  },
  {
   "cell_type": "code",
   "execution_count": 20,
   "metadata": {},
   "outputs": [],
   "source": [
    "# we can access parent directories"
   ]
  },
  {
   "cell_type": "code",
   "execution_count": 21,
   "metadata": {},
   "outputs": [],
   "source": [
    "# we can construct child directories"
   ]
  },
  {
   "cell_type": "markdown",
   "metadata": {},
   "source": [
    "### Activity\n",
    "\n",
    "Create a `pathlib.Path` that references the file `wave.txt` in `<root>/data/files/` and validate the file exists."
   ]
  },
  {
   "cell_type": "code",
   "execution_count": 31,
   "metadata": {},
   "outputs": [
    {
     "name": "stdout",
     "output_type": "stream",
     "text": [
      "..\\data\\files\\wavez.txt\n",
      "False\n"
     ]
    }
   ],
   "source": [
    "filepath = Path(\".\").absolute().resolve().parent.joinpath(\"data\").joinpath(\"files\").joinpath(\"wave.txt\")\n",
    "\n",
    "filepath = Path(\"../data/files/wavez.txt\")\n",
    "\n",
    "print(filepath)\n",
    "\n",
    "print(filepath.exists())"
   ]
  },
  {
   "cell_type": "markdown",
   "metadata": {},
   "source": [
    "---"
   ]
  },
  {
   "cell_type": "markdown",
   "metadata": {},
   "source": [
    "## 03. Programatically Trawling\n",
    "\n",
    "A common component of data wrangling and process is retrieving and processing files, manually defining each file quickly becomes burdensome, thankfully we can trawl through the filesystem programatically using `pathlib` and regular expression matching.\n",
    "\n",
    "Regular expression matching is the process of finding strings that match a specified pattern using globbing regular expression.\n",
    "\n",
    "https://www.ibm.com/docs/en/netcoolconfigmanager/6.4.2.0?topic=wildcards-glob-regular-expressions"
   ]
  },
  {
   "cell_type": "code",
   "execution_count": 33,
   "metadata": {},
   "outputs": [
    {
     "name": "stdout",
     "output_type": "stream",
     "text": [
      "..\\.git\n",
      "..\\.gitignore\n",
      "..\\.venv\n",
      "..\\data\n",
      "..\\docs\n",
      "..\\notebooks\n",
      "..\\README.md\n",
      "..\\requirements.txt\n",
      "..\\scripts\n"
     ]
    }
   ],
   "source": [
    "for path in Path(\"..\").glob(\"*\"):\n",
    "    print(path)"
   ]
  },
  {
   "cell_type": "code",
   "execution_count": 40,
   "metadata": {},
   "outputs": [
    {
     "name": "stdout",
     "output_type": "stream",
     "text": [
      "..\\data\\files\\label.txt\n",
      "..\\data\\files\\wave.txt\n"
     ]
    }
   ],
   "source": [
    "# lets manually access all the files in `<root>/data/files`\n",
    "for path in Path(\"../data/files\").glob(\"*.txt\"):\n",
    "    print(path)"
   ]
  },
  {
   "cell_type": "code",
   "execution_count": null,
   "metadata": {},
   "outputs": [],
   "source": [
    "items : Generator = Path(\"../data/files\").glob(\"*.txt\")"
   ]
  },
  {
   "cell_type": "markdown",
   "metadata": {},
   "source": [
    "A `Generator` is an `Iterable` object which `yield`s an item each time it is iterated over."
   ]
  },
  {
   "cell_type": "code",
   "execution_count": 32,
   "metadata": {},
   "outputs": [],
   "source": [
    "# you can also create your own generators\n",
    "class CustomGenerator:\n",
    "    def __init__(self, items: Iterable) -> None:\n",
    "        super(CustomGenerator, self).__init__()\n",
    "        self.items = items\n",
    "\n",
    "    def __iter__(self) -> Any:\n",
    "        items = self.items\n",
    "        for item in items:\n",
    "            yield item"
   ]
  },
  {
   "cell_type": "code",
   "execution_count": 34,
   "metadata": {},
   "outputs": [],
   "source": [
    "# when we use `.glob` we return a `Generator` that we can iterate over\n"
   ]
  },
  {
   "cell_type": "code",
   "execution_count": 35,
   "metadata": {},
   "outputs": [],
   "source": [
    "# lets iterate over the files in notebooks"
   ]
  },
  {
   "cell_type": "markdown",
   "metadata": {},
   "source": [
    "We can use different regular expression patterns to retrieve different items."
   ]
  },
  {
   "cell_type": "code",
   "execution_count": 37,
   "metadata": {},
   "outputs": [],
   "source": [
    "# get all items in a directory"
   ]
  },
  {
   "cell_type": "code",
   "execution_count": 38,
   "metadata": {},
   "outputs": [],
   "source": [
    "# get all items in a directory with a part of a name"
   ]
  },
  {
   "cell_type": "code",
   "execution_count": 39,
   "metadata": {},
   "outputs": [],
   "source": [
    "# recursively access items in a directory"
   ]
  },
  {
   "cell_type": "code",
   "execution_count": null,
   "metadata": {},
   "outputs": [],
   "source": [
    "# lots of different options"
   ]
  },
  {
   "cell_type": "markdown",
   "metadata": {},
   "source": [
    "### Activity\n",
    "\n",
    "Create a `pathlib.Path` for the `data` directory in this project and use `.glob(...)` to match all of the files in the `files` subdirectory."
   ]
  },
  {
   "cell_type": "code",
   "execution_count": 41,
   "metadata": {},
   "outputs": [
    {
     "name": "stdout",
     "output_type": "stream",
     "text": [
      "..\\data\\files\\label.txt\n",
      "..\\data\\files\\wave.bin\n",
      "..\\data\\files\\wave.HDF5\n",
      "..\\data\\files\\wave.png\n",
      "..\\data\\files\\wave.txt\n"
     ]
    }
   ],
   "source": [
    "for path in Path(\"../data/files\").glob(\"*\"):\n",
    "    print(path)"
   ]
  },
  {
   "cell_type": "markdown",
   "metadata": {},
   "source": [
    "Can you build on this and index over the 2 samples in the `datasets` subdirectory."
   ]
  },
  {
   "cell_type": "code",
   "execution_count": null,
   "metadata": {},
   "outputs": [],
   "source": []
  }
 ],
 "metadata": {
  "kernelspec": {
   "display_name": ".venv",
   "language": "python",
   "name": "python3"
  },
  "language_info": {
   "codemirror_mode": {
    "name": "ipython",
    "version": 3
   },
   "file_extension": ".py",
   "mimetype": "text/x-python",
   "name": "python",
   "nbconvert_exporter": "python",
   "pygments_lexer": "ipython3",
   "version": "3.10.11"
  }
 },
 "nbformat": 4,
 "nbformat_minor": 2
}
